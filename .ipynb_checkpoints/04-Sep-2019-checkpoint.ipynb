{
 "cells": [
  {
   "cell_type": "code",
   "execution_count": 4,
   "metadata": {},
   "outputs": [],
   "source": [
    "# Contact Application\n",
    "# 1.Add Contact\n",
    "# 2.Update Contact\n",
    "# 3.Delete Contact\n",
    "# 4.List All Contacts\n",
    "contacts = {}"
   ]
  },
  {
   "cell_type": "code",
   "execution_count": 5,
   "metadata": {},
   "outputs": [
    {
     "name": "stdout",
     "output_type": "stream",
     "text": [
      "Enter Contact Name:Ashok\n",
      "Enter Contact Number:1231231230\n",
      "Contact Added...\n"
     ]
    }
   ],
   "source": [
    "# Add Contact\n",
    "\n",
    "def addContact(name,mobile):\n",
    "    if name not in contacts.keys():\n",
    "        contacts[name] = mobile\n",
    "        print(\"Contact Added...\")\n",
    "    else:\n",
    "        print(\"Contact Already Exist\")\n",
    "name = input(\"Enter Contact Name:\")\n",
    "number = input(\"Enter Contact Number:\")\n",
    "addContact(name,number)"
   ]
  },
  {
   "cell_type": "code",
   "execution_count": 6,
   "metadata": {},
   "outputs": [
    {
     "data": {
      "text/plain": [
       "{'Ashok': '1231231230'}"
      ]
     },
     "execution_count": 6,
     "metadata": {},
     "output_type": "execute_result"
    }
   ],
   "source": [
    "# Name      Number\n",
    "#-------------------------\n",
    "# Ashok     1231231230\n",
    "# Kumar     93847237847\n",
    "# -\n",
    "\n"
   ]
  },
  {
   "cell_type": "code",
   "execution_count": null,
   "metadata": {},
   "outputs": [],
   "source": []
  }
 ],
 "metadata": {
  "kernelspec": {
   "display_name": "Python 3",
   "language": "python",
   "name": "python3"
  },
  "language_info": {
   "codemirror_mode": {
    "name": "ipython",
    "version": 3
   },
   "file_extension": ".py",
   "mimetype": "text/x-python",
   "name": "python",
   "nbconvert_exporter": "python",
   "pygments_lexer": "ipython3",
   "version": "3.7.3"
  }
 },
 "nbformat": 4,
 "nbformat_minor": 2
}
