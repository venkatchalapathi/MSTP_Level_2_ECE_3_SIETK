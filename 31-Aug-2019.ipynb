{
 "cells": [
  {
   "cell_type": "markdown",
   "metadata": {},
   "source": [
    "### Date : 31-Aug-2019\n",
    "#### Day Objectives:\n",
    "        * Working on previous problem set\n",
    "        * Data Structures in python\n",
    "                * Lists\n",
    "                * Dictionaries\n",
    "                * Tuples\n",
    "                * sets"
   ]
  },
  {
   "cell_type": "code",
   "execution_count": 1,
   "metadata": {},
   "outputs": [],
   "source": [
    "#create a function to check given string is palindrome or not\n",
    "\n",
    "#create a function to find the average of prime numbers in between 1,1000\n",
    "#    Steps:   1.check number is prime or not \n",
    "#             2.1 to 1000 find primes \n",
    "#             3.sum of primes\n",
    "#             4.avg of primes\n",
    "453.13690476190476\n",
    "447.811\n",
    "\n",
    "#create a function to find the factorial of given number\n",
    "\n",
    "#create a function to print the facbonacci seies \n",
    "\n",
    "#create a function to check given number is perfectnumber of not\n",
    "    # Ex:6 == > factors of 6 ==>1,2,3=1+2+3=6\n",
    "    \n",
    "#create a function to print all the perfectnumbers in between 1,100\n",
    "\n",
    "#create a function to find the average of given number factors\n",
    "\n",
    "#create a function to find the intrest of given amount and time\n",
    "    #(here intrest is 2rs)\n",
    "    \n",
    "#create a function to generate all the leap years in between 2024 to 2090"
   ]
  },
  {
   "cell_type": "code",
   "execution_count": 6,
   "metadata": {},
   "outputs": [
    {
     "name": "stdout",
     "output_type": "stream",
     "text": [
      "Enter a stringmalayalam\n",
      "Given String is a palindrome\n"
     ]
    }
   ],
   "source": [
    "#create a function to check given string is palindrome or not\n",
    "def palindromecheck(a):\n",
    "    if a==a[::-1]:\n",
    "        print(\"Given String is a palindrome\")\n",
    "    else:\n",
    "        print(\"Not Palindrome..\")\n",
    "    \n",
    "a=input(\"Enter a string\")\n",
    "palindromecheck(a)\n",
    "\n"
   ]
  },
  {
   "cell_type": "code",
   "execution_count": 12,
   "metadata": {},
   "outputs": [
    {
     "name": "stdout",
     "output_type": "stream",
     "text": [
      "76128\n",
      "170\n",
      "447.81176470588235\n"
     ]
    }
   ],
   "source": [
    "# Check prime number\n",
    "def isPrime(n):\n",
    "    count=1\n",
    "    for i in range(1,n):\n",
    "        if n%i==0:\n",
    "            count+=1 # count = count+1\n",
    "    if count>2:\n",
    "        return False\n",
    "    else:\n",
    "        return True\n",
    "def findAvgAndSumOfPrimes():\n",
    "    tot = 0\n",
    "    count = 1\n",
    "    for i in range(1,1000):\n",
    "        if isPrime(i):\n",
    "            tot = tot+i\n",
    "            count = count+1\n",
    "    print(tot)\n",
    "    print(count)\n",
    "    avg = tot/count\n",
    "    print(avg)\n",
    "findAvgAndSumOfPrimes()"
   ]
  },
  {
   "cell_type": "code",
   "execution_count": 18,
   "metadata": {},
   "outputs": [
    {
     "name": "stdout",
     "output_type": "stream",
     "text": [
      "sum is  76127\n",
      "count is  168\n",
      "453.13690476190476\n"
     ]
    }
   ],
   "source": [
    "#create a function to find the average of prime numbers in between 1,1000\n",
    "#    Steps:   1.check number is prime or not \n",
    "#             2.1 to 1000 find primes \n",
    "#             3.sum of primes\n",
    "#             4.avg of primes\n",
    "\n",
    "def isPrime(n):\n",
    "    count = 1\n",
    "    for i in range(1,n):\n",
    "        if n%i == 0:\n",
    "            count+=1\n",
    "    if count == 2:\n",
    "        return True\n",
    "    else:\n",
    "        return False\n",
    "def avgofPrime(lb,ub):\n",
    "    s = 0\n",
    "    c = 0\n",
    "    for j in range(lb,ub):\n",
    "        if isPrime(j):\n",
    "            s+=j\n",
    "            c+=1\n",
    "    print(\"sum is \",s)\n",
    "    print(\"count is \",c)\n",
    "    avg = s/c\n",
    "    print(avg)\n",
    "avgofPrime(1,1000)\n",
    "            \n",
    "    \n",
    "        "
   ]
  },
  {
   "cell_type": "code",
   "execution_count": 19,
   "metadata": {},
   "outputs": [
    {
     "name": "stdout",
     "output_type": "stream",
     "text": [
      "enter any num: 5\n",
      "120 is the factorial of the given num\n"
     ]
    }
   ],
   "source": [
    "def fact(n):\n",
    "    f=1\n",
    "    for i in range(n,1,-1):\n",
    "        f=f*i\n",
    "    print(f,\"is the factorial of the given num\")\n",
    "a=int(input(\"enter any num: \"))\n",
    "fact(a)"
   ]
  },
  {
   "cell_type": "code",
   "execution_count": 20,
   "metadata": {},
   "outputs": [
    {
     "name": "stdout",
     "output_type": "stream",
     "text": [
      "Enter amount 10000\n",
      "Enter no of months 12\n"
     ]
    },
    {
     "data": {
      "text/plain": [
       "2400.0"
      ]
     },
     "execution_count": 20,
     "metadata": {},
     "output_type": "execute_result"
    }
   ],
   "source": [
    "#create a function to find the intrest of given amount and time\n",
    "    #(here intrest is 2rs)\n",
    "# PTR/100\n",
    "# p - amount\n",
    "# t - time\n",
    "# r - rate of intrest\n",
    "def findtheIntrest(p,t,r):\n",
    "    return (p*t*r)/100\n",
    "p = int(input(\"Enter amount \"))\n",
    "t = int(input(\"Enter no of months \"))\n",
    "r = 2\n",
    "findtheIntrest(p,t,r)\n",
    "    "
   ]
  },
  {
   "cell_type": "markdown",
   "metadata": {},
   "source": [
    "# Lists"
   ]
  },
  {
   "cell_type": "code",
   "execution_count": 31,
   "metadata": {},
   "outputs": [
    {
     "data": {
      "text/plain": [
       "7"
      ]
     },
     "execution_count": 31,
     "metadata": {},
     "output_type": "execute_result"
    }
   ],
   "source": [
    "#list is a collection hetrogenious data\n",
    "# List is a mutable \n",
    "#creation of list:\n",
    "#     li = [] or list()\n",
    "li = [1,2,3,\"APSSDC\",55.4,True,\"python\"]\n",
    "li[0]#we  can access the first element from the list\n",
    "li[1]#we can access the second element from the list\n",
    "li[-1]#we can access the last element from the list\n",
    "li[::2]#we can access the alternative elements from list\n",
    "li[::-1]#It gives the reverse of the list\n",
    "li[0:6]#we can access the inbetween elements\n",
    "len(li)#It gives length of the list"
   ]
  },
  {
   "cell_type": "code",
   "execution_count": 32,
   "metadata": {},
   "outputs": [
    {
     "data": {
      "text/plain": [
       "['__add__',\n",
       " '__class__',\n",
       " '__contains__',\n",
       " '__delattr__',\n",
       " '__delitem__',\n",
       " '__dir__',\n",
       " '__doc__',\n",
       " '__eq__',\n",
       " '__format__',\n",
       " '__ge__',\n",
       " '__getattribute__',\n",
       " '__getitem__',\n",
       " '__gt__',\n",
       " '__hash__',\n",
       " '__iadd__',\n",
       " '__imul__',\n",
       " '__init__',\n",
       " '__init_subclass__',\n",
       " '__iter__',\n",
       " '__le__',\n",
       " '__len__',\n",
       " '__lt__',\n",
       " '__mul__',\n",
       " '__ne__',\n",
       " '__new__',\n",
       " '__reduce__',\n",
       " '__reduce_ex__',\n",
       " '__repr__',\n",
       " '__reversed__',\n",
       " '__rmul__',\n",
       " '__setattr__',\n",
       " '__setitem__',\n",
       " '__sizeof__',\n",
       " '__str__',\n",
       " '__subclasshook__',\n",
       " 'append',\n",
       " 'clear',\n",
       " 'copy',\n",
       " 'count',\n",
       " 'extend',\n",
       " 'index',\n",
       " 'insert',\n",
       " 'pop',\n",
       " 'remove',\n",
       " 'reverse',\n",
       " 'sort']"
      ]
     },
     "execution_count": 32,
     "metadata": {},
     "output_type": "execute_result"
    }
   ],
   "source": [
    "dir(list)"
   ]
  },
  {
   "cell_type": "code",
   "execution_count": 44,
   "metadata": {},
   "outputs": [
    {
     "data": {
      "text/plain": [
       "7"
      ]
     },
     "execution_count": 44,
     "metadata": {},
     "output_type": "execute_result"
    }
   ],
   "source": [
    "l = [1,2,3,4,3,4]\n",
    "l2 = [\"APSSDC\",\"Python\"] \n",
    "l.append(3)\n",
    "l.count(4)\n",
    "l.extend(l2)\n",
    "l.index(\"APSSDC\")\n"
   ]
  },
  {
   "cell_type": "code",
   "execution_count": 59,
   "metadata": {},
   "outputs": [
    {
     "data": {
      "text/plain": [
       "[2, 3, 4, 5, 6, 7]"
      ]
     },
     "execution_count": 59,
     "metadata": {},
     "output_type": "execute_result"
    }
   ],
   "source": [
    "l = [2,3,4,5,6]\n",
    "l.index(6)#It gives value index\n",
    "l.insert(0,7)#It will insert the elements into the lis based on index\n",
    "l.reverse()#It gives reverse of the list\n",
    "sorted(l, reverse= False)#It will sort the list in Assending and desending"
   ]
  },
  {
   "cell_type": "code",
   "execution_count": 72,
   "metadata": {},
   "outputs": [
    {
     "data": {
      "text/plain": [
       "99"
      ]
     },
     "execution_count": 72,
     "metadata": {},
     "output_type": "execute_result"
    }
   ],
   "source": [
    "li = [1,2,3,4,5,6,7,8,9,[7,6,88,99,0]]\n",
    "# for i in range(0,len(li)):\n",
    "#     print(li[i],end = \" \")\n",
    "# for i in li:\n",
    "#     print(i,end = \" \")\n",
    "\n",
    "li[-1][-2]"
   ]
  },
  {
   "cell_type": "code",
   "execution_count": 83,
   "metadata": {},
   "outputs": [
    {
     "name": "stdout",
     "output_type": "stream",
     "text": [
      "44\n",
      "44  is exist\n"
     ]
    }
   ],
   "source": [
    "#TAsk\n",
    "#create a function to search the given element in the list\n",
    "#If the given element is existed print that number\n",
    "#If the given element not existed print \n",
    "#'the number is not existed'\n",
    "li = [1000,99,44,33,76,78,29,90,30,44,60]\n",
    "def search(n):\n",
    "    if n in li:\n",
    "        print(n,\" is exist\")\n",
    "    else:\n",
    "        print(n,\" not exist\")\n",
    "n = int(input())\n",
    "search(n)\n",
    "   \n"
   ]
  },
  {
   "cell_type": "code",
   "execution_count": 93,
   "metadata": {},
   "outputs": [
    {
     "data": {
      "text/plain": [
       "88"
      ]
     },
     "execution_count": 93,
     "metadata": {},
     "output_type": "execute_result"
    }
   ],
   "source": [
    "l = [1,5,6,7,8,9,90,88,1,3,4,5]\n",
    "max(l)#It gives maximum value of the list\n",
    "min(l)#It gives minimum value of the list\n",
    "sum(l)#If you want get the sum of all elements in the list\n",
    "# then we can use the sum() function\n",
    "l = sorted(l, reverse = True)\n",
    "l[1]"
   ]
  },
  {
   "cell_type": "code",
   "execution_count": 97,
   "metadata": {},
   "outputs": [
    {
     "data": {
      "text/plain": [
       "4"
      ]
     },
     "execution_count": 97,
     "metadata": {},
     "output_type": "execute_result"
    }
   ],
   "source": [
    "# l = [1,2,3,4,5,5,5,3,2]\n",
    "# find the second largest in the above list\n",
    "#O/p : 4\n",
    "#Create finction to find the \n",
    "#second largest in the above list\n",
    "def findingSecondLargest(li):\n",
    "    unique = []\n",
    "    for i in li:\n",
    "        if i not in unique:\n",
    "            unique.append(i)\n",
    "    return unique[-2]\n",
    "l = [1,2,3,4,5,5,5,3,2]\n",
    "findingSecondLargest(l)"
   ]
  },
  {
   "cell_type": "code",
   "execution_count": 99,
   "metadata": {},
   "outputs": [
    {
     "data": {
      "text/plain": [
       "90"
      ]
     },
     "execution_count": 99,
     "metadata": {},
     "output_type": "execute_result"
    }
   ],
   "source": [
    "#create function to find the third largest in the below \n",
    "#list li = [99,101,101,101,99,90,88,26,27]\n",
    "def findngthirdLargest(li):\n",
    "    unique = []\n",
    "    for i in li:\n",
    "        if i not in unique:\n",
    "            unique.append(i)\n",
    "    sortedunique = sorted(unique)\n",
    "    return sortedunique[-3]\n",
    "li = [99,101,101,101,99,90,88,26,27]\n",
    "findngthirdLargest(li)"
   ]
  },
  {
   "cell_type": "code",
   "execution_count": 103,
   "metadata": {},
   "outputs": [
    {
     "data": {
      "text/plain": [
       "44"
      ]
     },
     "execution_count": 103,
     "metadata": {},
     "output_type": "execute_result"
    }
   ],
   "source": [
    "#create a function to find the second lowest in \n",
    "#the given list l = [1,1,2,3,3,4,5,5,5]\n",
    "def findingSecondLowest(li):\n",
    "    unique = []\n",
    "    for i in li:\n",
    "        if i not in unique:\n",
    "            unique.append(i)\n",
    "    sortedunique = sorted(unique)\n",
    "    return sortedunique[1]\n",
    "l = [1,1,2,3,3,4,5,5,5]\n",
    "findingSecondLowest(l)\n",
    "\n",
    "#create a function find the third lowest in the given list\n",
    "# li = [80,101,150,22,22,30,44,500,400,30]\n",
    "def findingThirdLowest(li):\n",
    "    unique = []\n",
    "    for i in li:\n",
    "        if i not in unique:\n",
    "            unique.append(i)\n",
    "            \n",
    "    sortedUnique = sorted(unique)\n",
    "    return sortedUnique[2]\n",
    "li = [80,101,150,22,22,30,44,500,400,30]\n",
    "findingThirdLowest(li)\n",
    "    "
   ]
  },
  {
   "cell_type": "markdown",
   "metadata": {},
   "source": [
    "# Dictionaries"
   ]
  },
  {
   "cell_type": "code",
   "execution_count": 78,
   "metadata": {},
   "outputs": [
    {
     "data": {
      "text/plain": [
       "'APSSDC'"
      ]
     },
     "execution_count": 78,
     "metadata": {},
     "output_type": "execute_result"
    }
   ],
   "source": [
    "#Dictionary is collection of  hetrogenious data\n",
    "#In this dictionary we can maintain the data \n",
    "#through the key value pair\n",
    "# sytanx:\n",
    "#     d = {key1:value1,key2:value2}\n",
    "#Key is must be in unique dont give the duplicates\n",
    "#why because based on the key only we can access the \n",
    "#data from the dictionary\n",
    "#Dictiony is a immutable\n",
    "#Key is in any data type \n",
    "#there is no specific data type to declare the key\n",
    "d = {\"key1\":2,1:44,5:777,3:\"APSSDC\"}\n",
    "d[\"key1\"]\n",
    "d[3]"
   ]
  },
  {
   "cell_type": "code",
   "execution_count": 79,
   "metadata": {},
   "outputs": [
    {
     "data": {
      "text/plain": [
       "['__class__',\n",
       " '__contains__',\n",
       " '__delattr__',\n",
       " '__delitem__',\n",
       " '__dir__',\n",
       " '__doc__',\n",
       " '__eq__',\n",
       " '__format__',\n",
       " '__ge__',\n",
       " '__getattribute__',\n",
       " '__getitem__',\n",
       " '__gt__',\n",
       " '__hash__',\n",
       " '__init__',\n",
       " '__init_subclass__',\n",
       " '__iter__',\n",
       " '__le__',\n",
       " '__len__',\n",
       " '__lt__',\n",
       " '__ne__',\n",
       " '__new__',\n",
       " '__reduce__',\n",
       " '__reduce_ex__',\n",
       " '__repr__',\n",
       " '__setattr__',\n",
       " '__setitem__',\n",
       " '__sizeof__',\n",
       " '__str__',\n",
       " '__subclasshook__',\n",
       " 'clear',\n",
       " 'copy',\n",
       " 'fromkeys',\n",
       " 'get',\n",
       " 'items',\n",
       " 'keys',\n",
       " 'pop',\n",
       " 'popitem',\n",
       " 'setdefault',\n",
       " 'update',\n",
       " 'values']"
      ]
     },
     "execution_count": 79,
     "metadata": {},
     "output_type": "execute_result"
    }
   ],
   "source": [
    "dir(dict)"
   ]
  },
  {
   "cell_type": "code",
   "execution_count": 115,
   "metadata": {},
   "outputs": [
    {
     "data": {
      "text/plain": [
       "dict_keys(['key1', 'key2', 'key4'])"
      ]
     },
     "execution_count": 115,
     "metadata": {},
     "output_type": "execute_result"
    }
   ],
   "source": [
    "d = {\"key1\":22,\"key2\":33,\"key4\":44}\n",
    "d[\"key1\"]#If you want to access the element from dictionary\n",
    "#by using key we can access\n",
    "d.values()#It gives the values of that particular dictionary\n",
    "d.keys()#It gives keys of that particular dictionary\n",
    "len(d)#It gives length of the dictionary\n",
    "d.items()\n",
    "d.values()\n",
    "d.keys()\n",
    "\n"
   ]
  },
  {
   "cell_type": "markdown",
   "metadata": {},
   "source": [
    "# Tuple"
   ]
  },
  {
   "cell_type": "code",
   "execution_count": 110,
   "metadata": {},
   "outputs": [
    {
     "data": {
      "text/plain": [
       "8"
      ]
     },
     "execution_count": 110,
     "metadata": {},
     "output_type": "execute_result"
    }
   ],
   "source": [
    "#Tuple is a collection of hetrogenious data\n",
    "#We can declare the tuple t = (value1,value2,value3)\n",
    "#Tuple is immutable\n",
    "#If you want access the elements from tuple by using \n",
    "#indexing we can access\n",
    "t = (1,2,3,4,4,5,6,\"APSSDC\")\n",
    "t[0]#we can access the first element from the tuple\n",
    "t[-1]#we can access the last element from the tuple\n",
    "t[::2]#we can access the alternative elements from the tuple\n",
    "t[::-1]#we can reverse the tuple\n",
    "len(t)#we can get the length of the tuple\n"
   ]
  },
  {
   "cell_type": "code",
   "execution_count": 111,
   "metadata": {},
   "outputs": [
    {
     "data": {
      "text/plain": [
       "['__add__',\n",
       " '__class__',\n",
       " '__contains__',\n",
       " '__delattr__',\n",
       " '__dir__',\n",
       " '__doc__',\n",
       " '__eq__',\n",
       " '__format__',\n",
       " '__ge__',\n",
       " '__getattribute__',\n",
       " '__getitem__',\n",
       " '__getnewargs__',\n",
       " '__gt__',\n",
       " '__hash__',\n",
       " '__init__',\n",
       " '__init_subclass__',\n",
       " '__iter__',\n",
       " '__le__',\n",
       " '__len__',\n",
       " '__lt__',\n",
       " '__mul__',\n",
       " '__ne__',\n",
       " '__new__',\n",
       " '__reduce__',\n",
       " '__reduce_ex__',\n",
       " '__repr__',\n",
       " '__rmul__',\n",
       " '__setattr__',\n",
       " '__sizeof__',\n",
       " '__str__',\n",
       " '__subclasshook__',\n",
       " 'count',\n",
       " 'index']"
      ]
     },
     "execution_count": 111,
     "metadata": {},
     "output_type": "execute_result"
    }
   ],
   "source": [
    "dir(tuple)"
   ]
  },
  {
   "cell_type": "code",
   "execution_count": 118,
   "metadata": {},
   "outputs": [
    {
     "data": {
      "text/plain": [
       "{33: 2, 1: 3, 22: 2, 4: 2, 32: 1, 44: 1}"
      ]
     },
     "execution_count": 118,
     "metadata": {},
     "output_type": "execute_result"
    }
   ],
   "source": [
    "#Tasks\n",
    "# =======\n",
    "#create a function to create the dictionary \n",
    "#in the below format\n",
    "# Input : li = [33,1,22,4,1,32,44,4,22,33,1]\n",
    "#creatingDictionary():\n",
    "\n",
    "# output:d = {33:2,1:3,22:2,4:2,32:1,44:1}\n",
    "\n",
    "# Part2:find the highest frequency element in the list\n",
    "#(use the below program)\n",
    "def creatingDictionary(li):\n",
    "    d = {}\n",
    "    for i in li:\n",
    "        if i not in d.keys():\n",
    "            d[i] = li.count(i)\n",
    "    return d\n",
    "li = [33,1,22,4,1,32,44,4,22,33,1]\n",
    "creatingDictionary(li)\n",
    "    \n",
    "    "
   ]
  },
  {
   "cell_type": "code",
   "execution_count": 133,
   "metadata": {},
   "outputs": [
    {
     "name": "stdout",
     "output_type": "stream",
     "text": [
      "3\n",
      "[2, 3, 2, 2, 1, 1]\n",
      "1  is highest frequency element \n"
     ]
    },
    {
     "data": {
      "text/plain": [
       "{33: 2, 1: 3, 22: 2, 4: 2, 32: 1, 44: 1}"
      ]
     },
     "execution_count": 133,
     "metadata": {},
     "output_type": "execute_result"
    }
   ],
   "source": [
    "# Part2:find the highest frequency element in the list\n",
    "#(use the below program)\n",
    "def highestfrequencyelement(li):\n",
    "    d = {}\n",
    "    for i in li:\n",
    "        if i not in d.keys():\n",
    "            d[i] = li.count(i)\n",
    "    valueslist = list(d.values())\n",
    "    maxfrequencyvalue = max(valueslist)\n",
    "    print(maxfrequencyvalue)\n",
    "    print(valueslist)\n",
    "    for item in d.items():\n",
    "        if item[1] == maxfrequencyvalue:\n",
    "            print(item[0],\" is highest frequency element \")\n",
    "    return d\n",
    "li = [33,1,22,4,1,32,44,4,22,33,1]\n",
    "highestfrequencyelement(li)\n",
    "    "
   ]
  },
  {
   "cell_type": "code",
   "execution_count": null,
   "metadata": {},
   "outputs": [],
   "source": [
    "#lowest fre"
   ]
  }
 ],
 "metadata": {
  "kernelspec": {
   "display_name": "Python 3",
   "language": "python",
   "name": "python3"
  },
  "language_info": {
   "codemirror_mode": {
    "name": "ipython",
    "version": 3
   },
   "file_extension": ".py",
   "mimetype": "text/x-python",
   "name": "python",
   "nbconvert_exporter": "python",
   "pygments_lexer": "ipython3",
   "version": "3.7.3"
  }
 },
 "nbformat": 4,
 "nbformat_minor": 2
}
