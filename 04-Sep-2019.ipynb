{
 "cells": [
  {
   "cell_type": "code",
   "execution_count": 4,
   "metadata": {},
   "outputs": [],
   "source": [
    "# Contact Application\n",
    "# 1.Add Contact\n",
    "# 2.Update Contact\n",
    "# 3.Delete Contact\n",
    "# 4.List All Contacts\n",
    "contacts = {}"
   ]
  },
  {
   "cell_type": "code",
   "execution_count": 15,
   "metadata": {},
   "outputs": [
    {
     "name": "stdout",
     "output_type": "stream",
     "text": [
      "Enter Contact Name:B\n",
      "Enter Contact Number:6786786768\n",
      "Contact Added...\n"
     ]
    }
   ],
   "source": [
    "# Add Contact\n",
    "\n",
    "def addContact(name,mobile):\n",
    "    if name not in contacts.keys():\n",
    "        contacts[name] = mobile\n",
    "        print(\"Contact Added...\")\n",
    "    else:\n",
    "        print(\"Contact Already Exist\")\n",
    "name = input(\"Enter Contact Name:\")\n",
    "number = input(\"Enter Contact Number:\")\n",
    "addContact(name,number)"
   ]
  },
  {
   "cell_type": "code",
   "execution_count": 8,
   "metadata": {},
   "outputs": [
    {
     "name": "stdout",
     "output_type": "stream",
     "text": [
      "Enter Name:Saaho\n",
      "Enter Number:78979882387\n",
      "Contact Not Exists...\n"
     ]
    }
   ],
   "source": [
    "# Update Contact\n",
    "def updateContact(name,number):\n",
    "    if name in contacts:\n",
    "        contacts[name]=number\n",
    "        print(\"Contact updated..\")\n",
    "    else:\n",
    "        print(\"Contact Not Exists...\")\n",
    "name = input(\"Enter Name:\")\n",
    "number = input(\"Enter Number:\")\n",
    "updateContact(name,number)"
   ]
  },
  {
   "cell_type": "code",
   "execution_count": 12,
   "metadata": {},
   "outputs": [
    {
     "name": "stdout",
     "output_type": "stream",
     "text": [
      "Enter contact name that u want to deleteAshok\n",
      "Ashok Deleted\n"
     ]
    }
   ],
   "source": [
    "# DeleteContact\n",
    "def deleteContact(name):\n",
    "    if name in contacts:\n",
    "        contacts.pop(name)\n",
    "        print(name,\"Deleted\")\n",
    "    else:\n",
    "        print(\"Contact not Found...\")\n",
    "deleteContact(input(\"Enter contact name that u want to delete\"))"
   ]
  },
  {
   "cell_type": "code",
   "execution_count": 16,
   "metadata": {},
   "outputs": [
    {
     "name": "stdout",
     "output_type": "stream",
     "text": [
      "Name            Number\n",
      "------------------------\n",
      "A      9988776655\n",
      "B      6786786768\n"
     ]
    }
   ],
   "source": [
    "# List Contacts\n",
    "def listContact(contact):\n",
    "    print(\"Name            Number\")\n",
    "    print(\"------------------------\")\n",
    "    for i in contact.keys():\n",
    "        print(i,\"    \",contact[i])\n",
    "listContact(contacts)\n",
    "    "
   ]
  },
  {
   "cell_type": "markdown",
   "metadata": {},
   "source": [
    "# Today Obejectives:\n",
    "- File Handling\n",
    "    - read()\n",
    "    - write()\n",
    "    - append()\n",
    "    - seek()\n",
    "    - tell()\n",
    "    - readline()\n",
    "    - readlines()\n",
    "- Funtional Programming\n",
    "    - List Comprehension\n",
    "    - Iterators\n",
    "    - Generator\n",
    "    - Filter\n",
    "- Sets"
   ]
  },
  {
   "cell_type": "code",
   "execution_count": 23,
   "metadata": {},
   "outputs": [
    {
     "name": "stdout",
     "output_type": "stream",
     "text": [
      "----------------------\n",
      "Hai Faculty...\n",
      "\n",
      "----------------------\n",
      "['Hello Boys and girls\\n', 'How are you']\n"
     ]
    }
   ],
   "source": [
    "# Write Opration\n",
    "\n",
    "f = open(\"sietk.txt\",'r')\n",
    "content= \"Hai Faculty... sjfalkdsklfddfjkdlk\"\n",
    "#f.write(content)\n",
    "\n",
    "#print(f.read())\n",
    "print(\"----------------------\")\n",
    "#print(f.readline())\n",
    "print(\"----------------------\")\n",
    "print(f.readlines())"
   ]
  },
  {
   "cell_type": "code",
   "execution_count": 34,
   "metadata": {},
   "outputs": [
    {
     "name": "stdout",
     "output_type": "stream",
     "text": [
      "47\n",
      "['Hai', 'Faculty...', 'Hello', 'Boys', 'and', 'girls', 'How', 'are', 'you']\n"
     ]
    }
   ],
   "source": [
    "# Task-1:\n",
    "# Print no of words ,no of lines and size of the file\n",
    "\n",
    "with open(\"sietk.txt\",'r') as f:\n",
    "    content = f.read() # Data is in String Format\n",
    "    line_list = content.split('\\n')# Data in \n",
    "                       # list Format\n",
    "    words_list = content.split()# No of Words\n",
    "    print(len(content))\n",
    "    print(content.split())"
   ]
  },
  {
   "cell_type": "code",
   "execution_count": null,
   "metadata": {},
   "outputs": [],
   "source": [
    "# Task-2:\n",
    "# define a function that takes file_path or filename\n",
    "# and prints Size of the file \n",
    "# No of words in a file\n",
    "# No of Lines in a file \n",
    "\n",
    "# Task-3:\n",
    "# Define a function that writes newcontact to a file\n",
    "\n",
    "# Task-4:\n",
    "# Define a function that updates the contact\n",
    "\n",
    "# Task-5:\n",
    "# Define a function that deletes a particular contact\n",
    "\n",
    "# Task-6:\n",
    "# Defind a function that prints all contacts\n",
    "\n",
    "#output:\n",
    "# Name          Number\n",
    "#---------------------------\n",
    "# Ajith        987384783\n",
    "# Balu         34732787\n"
   ]
  },
  {
   "cell_type": "code",
   "execution_count": 37,
   "metadata": {},
   "outputs": [
    {
     "name": "stdout",
     "output_type": "stream",
     "text": [
      "Enter Name:Vijay\n",
      "Enter Number:678687657979\n",
      "<class 'dict'>\n",
      "Contact Added..\n"
     ]
    }
   ],
   "source": [
    "# Define a function that writes newcontact to a file\n",
    "newcontact = {}\n",
    "def addContactToFile():\n",
    "    name = input(\"Enter Name:\")\n",
    "    number = input(\"Enter Number:\")\n",
    "    \n",
    "    # dict \n",
    "    newcontact[name]=number\n",
    "    \n",
    "    print(type(newcontact))\n",
    "    \n",
    "    s = \"\\n\"+str(newcontact)\n",
    "    \n",
    "    with open('contacts_app.txt','a') as file:\n",
    "        file.write(s)\n",
    "        print(\"Contact Added..\")\n",
    "    \n",
    "addContactToFile()"
   ]
  },
  {
   "cell_type": "code",
   "execution_count": 46,
   "metadata": {},
   "outputs": [
    {
     "name": "stdout",
     "output_type": "stream",
     "text": [
      "Venkat         978675426372\n",
      "Muni         986745364536\n",
      "Vijay         678687657979\n"
     ]
    }
   ],
   "source": [
    "# Defind a function that prints all contacts\n",
    "def listAllContacts():\n",
    "    with open('contacts_app.txt') as file:\n",
    "        content = file.read()\n",
    "        list_content = content.split('\\n')\n",
    "        \n",
    "        for i in list_content:\n",
    "            di = eval(i)\n",
    "            for j in di.keys():\n",
    "                print(j,\"       \",di[j])\n",
    "            #print(di)\n",
    "        #print(list_content)\n",
    "listAllContacts()"
   ]
  },
  {
   "cell_type": "code",
   "execution_count": 50,
   "metadata": {},
   "outputs": [
    {
     "data": {
      "text/plain": [
       "{1, 2, 3, 4, 5, 6, 7, 45}"
      ]
     },
     "execution_count": 50,
     "metadata": {},
     "output_type": "execute_result"
    }
   ],
   "source": [
    "# Sets\n",
    "\n",
    "#- set can denoted as {}\n",
    "#- example\n",
    "\n",
    "s = {1,2,3,4,5,4,45,6,7,5}\n",
    "s1 = set()\n",
    "s"
   ]
  },
  {
   "cell_type": "code",
   "execution_count": 52,
   "metadata": {},
   "outputs": [
    {
     "name": "stdout",
     "output_type": "stream",
     "text": [
      "1 2 3 4 5 6 7 45 "
     ]
    }
   ],
   "source": [
    "for i in s:\n",
    "    print(i,end=\" \")"
   ]
  },
  {
   "cell_type": "code",
   "execution_count": 54,
   "metadata": {},
   "outputs": [
    {
     "data": {
      "text/plain": [
       "[12, 32, 3, 4, 5, 3, 4, 3]"
      ]
     },
     "execution_count": 54,
     "metadata": {},
     "output_type": "execute_result"
    }
   ],
   "source": [
    "li = [12,32,3,4,5,3,4,3]\n",
    "li"
   ]
  },
  {
   "cell_type": "code",
   "execution_count": null,
   "metadata": {},
   "outputs": [],
   "source": [
    "# li = [1,1,2,3,2,2,3,4,5,6]\n",
    "# find no of occurences in the above list\n",
    "# output:\n",
    "# 1-2 times\n",
    "# 2-3 times\n",
    "# 3-2 times\n",
    "# 4-1 time\n",
    "# 5-1 time\n",
    "# 6-1 time\n",
    "\n",
    "# Lowest frequency value is 4\n"
   ]
  }
 ],
 "metadata": {
  "kernelspec": {
   "display_name": "Python 3",
   "language": "python",
   "name": "python3"
  },
  "language_info": {
   "codemirror_mode": {
    "name": "ipython",
    "version": 3
   },
   "file_extension": ".py",
   "mimetype": "text/x-python",
   "name": "python",
   "nbconvert_exporter": "python",
   "pygments_lexer": "ipython3",
   "version": "3.7.3"
  }
 },
 "nbformat": 4,
 "nbformat_minor": 2
}
