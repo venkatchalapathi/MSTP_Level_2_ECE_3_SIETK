{
 "cells": [
  {
   "cell_type": "markdown",
   "metadata": {},
   "source": [
    "# Today Obectives:\n",
    "- Recap the Concepts\n",
    "- Modules and Packages\n",
    "- Regular Expressions\n",
    "- File Handling\n",
    "- Functional Programming\n"
   ]
  },
  {
   "cell_type": "code",
   "execution_count": null,
   "metadata": {},
   "outputs": [],
   "source": [
    "# Task No-1:\n",
    "# Take the temperature form the user \n",
    "# temp is lessthan or equal to 20 print \"COOL\"\n",
    "# temp is between 20 and 30 print \"Moderate\"\n",
    "# temp is greater tha 30 then prints \"HOT\"\n"
   ]
  },
  {
   "cell_type": "code",
   "execution_count": 1,
   "metadata": {},
   "outputs": [
    {
     "name": "stdout",
     "output_type": "stream",
     "text": [
      "1 2 3 4 5 "
     ]
    }
   ],
   "source": [
    "# Loops \n",
    "# 1.for\n",
    "# 2.while\n",
    "\n",
    "i = 1\n",
    "while(i<6):\n",
    "    print(i,end=\" \")\n",
    "    i=i+1 # i+=1\n",
    "\n",
    "# while(True):# Infinite Loop\n",
    "    "
   ]
  },
  {
   "cell_type": "code",
   "execution_count": 3,
   "metadata": {},
   "outputs": [],
   "source": [
    "def addition():\n",
    "    a = int(input(\"Enter a value:\"))\n",
    "    b = int(input(\"Enter b value:\"))\n",
    "    print(a+b)"
   ]
  },
  {
   "cell_type": "code",
   "execution_count": 4,
   "metadata": {},
   "outputs": [],
   "source": [
    "def subtraction():\n",
    "    a = int(input(\"Enter a value:\"))\n",
    "    b = int(input(\"Enter b value:\"))\n",
    "    print(a-b)"
   ]
  },
  {
   "cell_type": "code",
   "execution_count": 5,
   "metadata": {},
   "outputs": [],
   "source": [
    "def multiplication():\n",
    "    a = int(input(\"Enter a value:\"))\n",
    "    b = int(input(\"Enter b value:\"))\n",
    "    print(a*b)"
   ]
  },
  {
   "cell_type": "code",
   "execution_count": 6,
   "metadata": {},
   "outputs": [],
   "source": [
    "def division():\n",
    "    a = int(input(\"Enter a value:\"))\n",
    "    b = int(input(\"Enter b value:\"))\n",
    "    print(a/b)"
   ]
  },
  {
   "cell_type": "code",
   "execution_count": 9,
   "metadata": {},
   "outputs": [
    {
     "name": "stdout",
     "output_type": "stream",
     "text": [
      "**** Calculator App ****\n",
      "1.Addition\n",
      "2.Subtraction\n",
      "3.Multiplication\n",
      "4.Division\n",
      "5.Exit\n",
      "Enter your Choice:5\n"
     ]
    },
    {
     "data": {
      "text/plain": [
       "True"
      ]
     },
     "execution_count": 9,
     "metadata": {},
     "output_type": "execute_result"
    }
   ],
   "source": [
    "# Arithmetic Operations\n",
    "def calculatorApp():\n",
    "    while(True):\n",
    "        print(\"**** Calculator App ****\")\n",
    "        print(\"1.Addition\\n2.Subtraction\\n3.Multiplication\\n4.Division\\n5.Exit\")\n",
    "        choice = int(input(\"Enter your Choice:\"))\n",
    "    \n",
    "        if choice==1:\n",
    "            addition()\n",
    "        elif choice==2:\n",
    "            subtraction()\n",
    "        elif choice==3:\n",
    "            multiplication()\n",
    "        elif choice==4:\n",
    "            division();\n",
    "        elif choice==5:\n",
    "            return True\n",
    "        else:\n",
    "            print(\"Invalid Choice..\")\n",
    "calculatorApp()"
   ]
  },
  {
   "cell_type": "markdown",
   "metadata": {},
   "source": [
    "# Modules and Packages\n",
    "- Modules: a python file or a software\n",
    "  which contains no of function to do a particular\n",
    "  Task\n",
    "  - math.sqrt ,random.randint\n",
    "- Packages:collection of modules is called Package\n",
    "  "
   ]
  },
  {
   "cell_type": "code",
   "execution_count": 20,
   "metadata": {},
   "outputs": [
    {
     "name": "stdout",
     "output_type": "stream",
     "text": [
      "7.0\n",
      "9.273618495495704\n"
     ]
    }
   ],
   "source": [
    "# importing math modules\n",
    "import math\n",
    "# from math import sqrt\n",
    "# import math.sqrt as s:\n",
    "print(math.sqrt(49))\n",
    "c = math.sqrt(86)\n",
    "print(c)"
   ]
  },
  {
   "cell_type": "code",
   "execution_count": 22,
   "metadata": {},
   "outputs": [
    {
     "name": "stdout",
     "output_type": "stream",
     "text": [
      "5\n"
     ]
    }
   ],
   "source": [
    "# importing random module\n",
    "\n",
    "import random\n",
    "# randint()\n",
    "print(random.randint(1,10))"
   ]
  },
  {
   "cell_type": "code",
   "execution_count": 24,
   "metadata": {},
   "outputs": [
    {
     "name": "stdout",
     "output_type": "stream",
     "text": [
      "True\n"
     ]
    }
   ],
   "source": [
    "# Accessing user defined module\n",
    "import apssdc\n",
    "print(apssdc.isPrime(2))"
   ]
  },
  {
   "cell_type": "markdown",
   "metadata": {},
   "source": [
    "# Regular Expression:\n",
    "\n",
    "- symbolic representation or sequence of char or a pattern\n",
    "- regx101\n",
    "\n",
    "- ^ - Starts with\n",
    "- $ - Ends with\n",
    "- [] - Char set\n",
    "- {} - Range set\n",
    "- *  - Multiple\n",
    "- a-z- chars between 'a' to 'z'\n",
    "- A-Z- chars between 'A' to 'Z'\n",
    "- 0-9- digits between 0 to 9"
   ]
  },
  {
   "cell_type": "code",
   "execution_count": null,
   "metadata": {},
   "outputs": [],
   "source": [
    "# 1.a five digit number\n",
    "# 2.starting number should be 7\n",
    "# 3.3rd digit should be 0\n",
    "# 4.last digit should be 9\n",
    "# Example:72019,73019\n",
    "#Exp:^[7][0-9][0][0-9][9]$\n",
    "\n",
    "#Task-2:\n",
    "#1.a nine digit number\n",
    "#2.starting digit should be 0\n",
    "#3.ending with 0\n",
    "# Exp:^[0][0-9]{7}[0]$\n",
    "\n",
    "#Even number\n",
    "#Exp:[0-9]*[02468]$\n",
    "\n",
    "#Odd numbers\n",
    "#Exp:[0-9]*[13579]$\n",
    "\n",
    "#any digit if it is divisible by 5\n",
    "#Exp:[0-9]*[50]$\n",
    "\n",
    "# any number if it is divisible by 10\n",
    "#Exp: [0-9]*[0]$\n",
    "\n",
    "\n",
    "# Mobile Number Validation\n",
    "# 1.a ten digit number \n",
    "# 2.starting digit shloud be 6-9\n",
    "\n",
    "# Exp: ^[6-9][0-9]{9}$|^[+][9][1][6-9][0-9]{9}$|^[0][6-9][0-9]{9}$\n",
    "\n",
    "# Mobile Number Validation-2\n",
    "# +919876543210[+][9][1]\n",
    "# Exp:^[+][9][1][6-9][0-9]{9}$\n",
    "\n",
    "# Mobile Number Validation-3\n",
    "# Roming calls : 09876543210\n",
    "# Exp:^[0][6-9][0-9]{9}$"
   ]
  },
  {
   "cell_type": "code",
   "execution_count": null,
   "metadata": {},
   "outputs": [],
   "source": [
    "# E-Mail Validation\n",
    "# example@gmail.com\n",
    "# User Name : example\n",
    "# Domain    : gmail\n",
    "# Extenstion: com\n",
    "\n",
    "#Task-4:E-Mail Validation\n",
    "#1.User name length should be 5,12\n",
    "#2.can have digits,special characters \n",
    "#  like _.#\n",
    "\n",
    "#3.Domain length should be 5,8 chars\n",
    "#4.it shouldn't have a digits and special chars\n",
    "\n",
    "#5.Extension length should be 2,4\n",
    "#6.it shouldn't have a digits and special chars\n",
    "#Example: venkat.1@apssdc.in\n",
    "\n",
    "#Exp: ^[a-zA-Z0-9_.#]{5,12}[@][a-zA-z]{5,8}[.][a-zA-Z]{2,4}$\n"
   ]
  },
  {
   "cell_type": "code",
   "execution_count": 31,
   "metadata": {},
   "outputs": [
    {
     "name": "stdout",
     "output_type": "stream",
     "text": [
      "Valid Mobile Number...\n"
     ]
    }
   ],
   "source": [
    "# Importing Package \n",
    "\n",
    "import re # regular Expressions\n",
    "\n",
    "# match() # it search for a given pattern\n",
    "def isMobileNumberValid(mobile_number):\n",
    "    pattern = \"^[6-9][0-9]{9}$|^[+][9][1][6-9][0-9]{9}$|^[0][6-9][0-9]{9}$\"\n",
    "    if(re.match(pattern,mobile_number)):\n",
    "        print(\"Valid Mobile Number...\")\n",
    "    else:\n",
    "        print('Not a Valid Mobile number')\n",
    "isMobileNumberValid(\"6299999999\")"
   ]
  },
  {
   "cell_type": "markdown",
   "metadata": {},
   "source": [
    "# File Handling:"
   ]
  },
  {
   "cell_type": "code",
   "execution_count": null,
   "metadata": {},
   "outputs": [],
   "source": [
    "# File Modes\n",
    "- read mode\n",
    "- write mode\n",
    "- append mode\n",
    "\n",
    "# open() - used to open a file\n",
    "# close() - used to close the file\n",
    "# operations:\n",
    "# read() - reads entire data as a string\n",
    "# readline() - reads a line as a string\n",
    "# readlines() - reads a data as list\n",
    "# seek() - place a cursor in a particular\n",
    "#          position\n",
    "# tell() - it tells the cursor position\n",
    "# write() - writes the data\n",
    "# append() - adds the data"
   ]
  },
  {
   "cell_type": "code",
   "execution_count": 41,
   "metadata": {},
   "outputs": [
    {
     "name": "stdout",
     "output_type": "stream",
     "text": [
      "['Hai', 'Friends', 'How', 'are', 'you', 'All', 'the', 'best', 'for', 'your', 'future!']\n"
     ]
    }
   ],
   "source": [
    "f = open(\"data.txt\")\n",
    "# with open(\"data.txt\") as f:\n",
    "content = f.read()\n",
    "li = content.split()\n",
    "print(li)"
   ]
  },
  {
   "cell_type": "code",
   "execution_count": 39,
   "metadata": {},
   "outputs": [
    {
     "data": {
      "text/plain": [
       "['hai', 'Hello', 'bye', 'b', 'ye']"
      ]
     },
     "execution_count": 39,
     "metadata": {},
     "output_type": "execute_result"
    }
   ],
   "source": [
    "s = \"hai#Hello#bye#b#ye\"\n",
    "li = s.split('#')\n",
    "li"
   ]
  },
  {
   "cell_type": "code",
   "execution_count": null,
   "metadata": {},
   "outputs": [],
   "source": [
    "# OUtput:\n",
    "# Hai-1\n",
    "# Hello - 1"
   ]
  }
 ],
 "metadata": {
  "kernelspec": {
   "display_name": "Python 3",
   "language": "python",
   "name": "python3"
  },
  "language_info": {
   "codemirror_mode": {
    "name": "ipython",
    "version": 3
   },
   "file_extension": ".py",
   "mimetype": "text/x-python",
   "name": "python",
   "nbconvert_exporter": "python",
   "pygments_lexer": "ipython3",
   "version": "3.7.3"
  }
 },
 "nbformat": 4,
 "nbformat_minor": 2
}
