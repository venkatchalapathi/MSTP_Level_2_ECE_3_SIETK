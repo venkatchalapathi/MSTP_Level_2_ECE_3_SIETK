{
 "cells": [
  {
   "cell_type": "markdown",
   "metadata": {},
   "source": [
    "### Date: 30-Aug-2019\n",
    "#### Day Objectives\n",
    "        * Yseterday topics revision\n",
    "        * Reading input dynamically\n",
    "        * Control Statements and loops\n",
    "        * Strings\n",
    "        * Problem Set"
   ]
  },
  {
   "cell_type": "code",
   "execution_count": 2,
   "metadata": {},
   "outputs": [
    {
     "data": {
      "text/plain": [
       "int"
      ]
     },
     "execution_count": 2,
     "metadata": {},
     "output_type": "execute_result"
    }
   ],
   "source": [
    "a = 30\n",
    "type(a)"
   ]
  },
  {
   "cell_type": "code",
   "execution_count": 6,
   "metadata": {},
   "outputs": [
    {
     "name": "stdout",
     "output_type": "stream",
     "text": [
      "30\n"
     ]
    },
    {
     "data": {
      "text/plain": [
       "str"
      ]
     },
     "execution_count": 6,
     "metadata": {},
     "output_type": "execute_result"
    }
   ],
   "source": [
    "a = input()\n",
    "type(a)"
   ]
  },
  {
   "cell_type": "code",
   "execution_count": 11,
   "metadata": {},
   "outputs": [
    {
     "name": "stdout",
     "output_type": "stream",
     "text": [
      "Enter age 20\n",
      "Adult\n"
     ]
    }
   ],
   "source": [
    "#take the iput age from the user\n",
    "#if age is greater tahn 18 then print Adult\n",
    "#if age is less than 18 then print child\n",
    "age = int(input(\"Enter age \"))\n",
    "if age > 18:\n",
    "    print(\"Adult\")\n",
    "else:\n",
    "    print(\"Child\")"
   ]
  },
  {
   "cell_type": "code",
   "execution_count": 22,
   "metadata": {},
   "outputs": [
    {
     "name": "stdout",
     "output_type": "stream",
     "text": [
      "Enter year 4\n",
      "4  is leap year\n"
     ]
    }
   ],
   "source": [
    "#Take the input year from the user,check the given year \n",
    "#leap year or not \n",
    "year = int(input(\"Enter year \"))\n",
    "if year%400 == 0 or (year%100!=0 and year%4==0):\n",
    "    print(year,\" is leap year\")\n",
    "else:\n",
    "    print(year,\" is not a leap year\")"
   ]
  },
  {
   "cell_type": "code",
   "execution_count": 27,
   "metadata": {},
   "outputs": [
    {
     "name": "stdout",
     "output_type": "stream",
     "text": [
      "1 4 7 "
     ]
    }
   ],
   "source": [
    "#for loop\n",
    "# range(lowerbound,upperbound,step)\n",
    "#lowerbound is inclusive\n",
    "#upperbund is exclusive\n",
    "#print 1 to 10\n",
    "for i in range(1,10,3):\n",
    "    print(i,end = \" \")"
   ]
  },
  {
   "cell_type": "code",
   "execution_count": 28,
   "metadata": {},
   "outputs": [],
   "source": [
    "#By using third(step) parameter\n",
    "#Print the even numbers in between 1, 10(both are iclusive)\n",
    "#Print the odd numbers in between 100,1000\n",
    "#==================\n",
    "#Print the leap years in between 1991,2030\n"
   ]
  },
  {
   "cell_type": "code",
   "execution_count": 32,
   "metadata": {},
   "outputs": [
    {
     "name": "stdout",
     "output_type": "stream",
     "text": [
      "2 4 6 8 10 "
     ]
    }
   ],
   "source": [
    "#Print the even numbers in between 1, 10(both are iclusive)\n",
    "for i in range(2,11,2):\n",
    "    print(i,end = \" \")"
   ]
  },
  {
   "cell_type": "code",
   "execution_count": 37,
   "metadata": {},
   "outputs": [
    {
     "name": "stdout",
     "output_type": "stream",
     "text": [
      "101 103 105 107 109 111 113 115 117 119 121 123 125 127 129 131 133 135 137 139 141 143 145 147 149 151 153 155 157 159 161 163 165 167 169 171 173 175 177 179 181 183 185 187 189 191 193 195 197 199 201 203 205 207 209 211 213 215 217 219 221 223 225 227 229 231 233 235 237 239 241 243 245 247 249 251 253 255 257 259 261 263 265 267 269 271 273 275 277 279 281 283 285 287 289 291 293 295 297 299 301 303 305 307 309 311 313 315 317 319 321 323 325 327 329 331 333 335 337 339 341 343 345 347 349 351 353 355 357 359 361 363 365 367 369 371 373 375 377 379 381 383 385 387 389 391 393 395 397 399 401 403 405 407 409 411 413 415 417 419 421 423 425 427 429 431 433 435 437 439 441 443 445 447 449 451 453 455 457 459 461 463 465 467 469 471 473 475 477 479 481 483 485 487 489 491 493 495 497 499 501 503 505 507 509 511 513 515 517 519 521 523 525 527 529 531 533 535 537 539 541 543 545 547 549 551 553 555 557 559 561 563 565 567 569 571 573 575 577 579 581 583 585 587 589 591 593 595 597 599 601 603 605 607 609 611 613 615 617 619 621 623 625 627 629 631 633 635 637 639 641 643 645 647 649 651 653 655 657 659 661 663 665 667 669 671 673 675 677 679 681 683 685 687 689 691 693 695 697 699 701 703 705 707 709 711 713 715 717 719 721 723 725 727 729 731 733 735 737 739 741 743 745 747 749 751 753 755 757 759 761 763 765 767 769 771 773 775 777 779 781 783 785 787 789 791 793 795 797 799 801 803 805 807 809 811 813 815 817 819 821 823 825 827 829 831 833 835 837 839 841 843 845 847 849 851 853 855 857 859 861 863 865 867 869 871 873 875 877 879 881 883 885 887 889 891 893 895 897 899 901 903 905 907 909 911 913 915 917 919 921 923 925 927 929 931 933 935 937 939 941 943 945 947 949 951 953 955 957 959 961 963 965 967 969 971 973 975 977 979 981 983 985 987 989 991 993 995 997 999 "
     ]
    }
   ],
   "source": [
    "#Print the odd numbers in between 100,1000\n",
    "for i in range(101,1000,2):\n",
    "    print(i,end = \" \")"
   ]
  },
  {
   "cell_type": "code",
   "execution_count": 38,
   "metadata": {},
   "outputs": [
    {
     "name": "stdout",
     "output_type": "stream",
     "text": [
      "1992 1996 2000 2004 2008 2012 2016 2020 2024 2028 "
     ]
    }
   ],
   "source": [
    "#Print the leap years in between 1991,2030\n",
    "for year in range(1991,2030):\n",
    "    if year%400 == 0 or (year%100!=0 and year%4 == 0):\n",
    "        print(year,end = \" \")"
   ]
  },
  {
   "cell_type": "code",
   "execution_count": 39,
   "metadata": {},
   "outputs": [
    {
     "name": "stdout",
     "output_type": "stream",
     "text": [
      "100\n",
      "2050\n",
      "104 108 112 116 120 124 128 132 136 140 144 148 152 156 160 164 168 172 176 180 184 188 192 196 204 208 212 216 220 224 228 232 236 240 244 248 252 256 260 264 268 272 276 280 284 288 292 296 304 308 312 316 320 324 328 332 336 340 344 348 352 356 360 364 368 372 376 380 384 388 392 396 400 404 408 412 416 420 424 428 432 436 440 444 448 452 456 460 464 468 472 476 480 484 488 492 496 504 508 512 516 520 524 528 532 536 540 544 548 552 556 560 564 568 572 576 580 584 588 592 596 604 608 612 616 620 624 628 632 636 640 644 648 652 656 660 664 668 672 676 680 684 688 692 696 704 708 712 716 720 724 728 732 736 740 744 748 752 756 760 764 768 772 776 780 784 788 792 796 800 804 808 812 816 820 824 828 832 836 840 844 848 852 856 860 864 868 872 876 880 884 888 892 896 904 908 912 916 920 924 928 932 936 940 944 948 952 956 960 964 968 972 976 980 984 988 992 996 1004 1008 1012 1016 1020 1024 1028 1032 1036 1040 1044 1048 1052 1056 1060 1064 1068 1072 1076 1080 1084 1088 1092 1096 1104 1108 1112 1116 1120 1124 1128 1132 1136 1140 1144 1148 1152 1156 1160 1164 1168 1172 1176 1180 1184 1188 1192 1196 1200 1204 1208 1212 1216 1220 1224 1228 1232 1236 1240 1244 1248 1252 1256 1260 1264 1268 1272 1276 1280 1284 1288 1292 1296 1304 1308 1312 1316 1320 1324 1328 1332 1336 1340 1344 1348 1352 1356 1360 1364 1368 1372 1376 1380 1384 1388 1392 1396 1404 1408 1412 1416 1420 1424 1428 1432 1436 1440 1444 1448 1452 1456 1460 1464 1468 1472 1476 1480 1484 1488 1492 1496 1504 1508 1512 1516 1520 1524 1528 1532 1536 1540 1544 1548 1552 1556 1560 1564 1568 1572 1576 1580 1584 1588 1592 1596 1600 1604 1608 1612 1616 1620 1624 1628 1632 1636 1640 1644 1648 1652 1656 1660 1664 1668 1672 1676 1680 1684 1688 1692 1696 1704 1708 1712 1716 1720 1724 1728 1732 1736 1740 1744 1748 1752 1756 1760 1764 1768 1772 1776 1780 1784 1788 1792 1796 1804 1808 1812 1816 1820 1824 1828 1832 1836 1840 1844 1848 1852 1856 1860 1864 1868 1872 1876 1880 1884 1888 1892 1896 1904 1908 1912 1916 1920 1924 1928 1932 1936 1940 1944 1948 1952 1956 1960 1964 1968 1972 1976 1980 1984 1988 1992 1996 2000 2004 2008 2012 2016 2020 2024 2028 2032 2036 2040 2044 2048 "
     ]
    }
   ],
   "source": [
    "#Print the leap years in between user given range\n",
    "lb = int(input())\n",
    "ub = int(input())\n",
    "for i in range(lb,ub):\n",
    "    if i%400 == 0 or (i%100!=0 and i%4 == 0):\n",
    "        print(i,end = \" \")"
   ]
  },
  {
   "cell_type": "markdown",
   "metadata": {},
   "source": [
    "# Strings in python"
   ]
  },
  {
   "cell_type": "code",
   "execution_count": 44,
   "metadata": {},
   "outputs": [
    {
     "data": {
      "text/plain": [
       "'h'"
      ]
     },
     "execution_count": 44,
     "metadata": {},
     "output_type": "execute_result"
    }
   ],
   "source": [
    "# String is a collection of characters and numbers \n",
    "#and special characters \n",
    "#String decleration : '' or \" \"\n",
    "#If you want access the individuaal characters \n",
    "#from the string here we are having two ways\n",
    "# i.e 1.by using Positive indexing\n",
    "#     2.by using negative indexing\n",
    "s = 'python'\n",
    "s[0]#To acces the first character of the string\n",
    "s[1]#To acess the second character of the string\n",
    "s[2]#To acess the third character of the string\n",
    "s[-1]#To access the last charcter of the string\n",
    "s[-2]\n",
    "s[-3]"
   ]
  },
  {
   "cell_type": "code",
   "execution_count": 45,
   "metadata": {},
   "outputs": [
    {
     "data": {
      "text/plain": [
       "'python'"
      ]
     },
     "execution_count": 45,
     "metadata": {},
     "output_type": "execute_result"
    }
   ],
   "source": [
    "s"
   ]
  },
  {
   "cell_type": "code",
   "execution_count": 52,
   "metadata": {},
   "outputs": [
    {
     "data": {
      "text/plain": [
       "'nohtyp'"
      ]
     },
     "execution_count": 52,
     "metadata": {},
     "output_type": "execute_result"
    }
   ],
   "source": [
    "#If you want to acess the in between characters then we can \n",
    "#use lowerbound and upperbound s[lowerbound:upperbound]\n",
    "#lowerbound is inclusive\n",
    "#upperbound is exclusive\n",
    "s[1:5]\n",
    "#to print the alternative characters of the string then\n",
    "#we can use step parameter s[lowerbound:upperbound:step]\n",
    "# s = 'python'\n",
    "#o/p : p t o\n",
    "s[0:5:2]# or\n",
    "s [::-1] #To reverse the string"
   ]
  },
  {
   "cell_type": "code",
   "execution_count": 54,
   "metadata": {},
   "outputs": [
    {
     "data": {
      "text/plain": [
       "'gnimmargorP nothyP'"
      ]
     },
     "execution_count": 54,
     "metadata": {},
     "output_type": "execute_result"
    }
   ],
   "source": [
    "s = \"Pyhton Programming\"\n",
    "#Find the string length \n",
    "len(s)\n",
    "s[::-1]"
   ]
  },
  {
   "cell_type": "code",
   "execution_count": 55,
   "metadata": {},
   "outputs": [
    {
     "data": {
      "text/plain": [
       "['__add__',\n",
       " '__class__',\n",
       " '__contains__',\n",
       " '__delattr__',\n",
       " '__dir__',\n",
       " '__doc__',\n",
       " '__eq__',\n",
       " '__format__',\n",
       " '__ge__',\n",
       " '__getattribute__',\n",
       " '__getitem__',\n",
       " '__getnewargs__',\n",
       " '__gt__',\n",
       " '__hash__',\n",
       " '__init__',\n",
       " '__init_subclass__',\n",
       " '__iter__',\n",
       " '__le__',\n",
       " '__len__',\n",
       " '__lt__',\n",
       " '__mod__',\n",
       " '__mul__',\n",
       " '__ne__',\n",
       " '__new__',\n",
       " '__reduce__',\n",
       " '__reduce_ex__',\n",
       " '__repr__',\n",
       " '__rmod__',\n",
       " '__rmul__',\n",
       " '__setattr__',\n",
       " '__sizeof__',\n",
       " '__str__',\n",
       " '__subclasshook__',\n",
       " 'capitalize',\n",
       " 'casefold',\n",
       " 'center',\n",
       " 'count',\n",
       " 'encode',\n",
       " 'endswith',\n",
       " 'expandtabs',\n",
       " 'find',\n",
       " 'format',\n",
       " 'format_map',\n",
       " 'index',\n",
       " 'isalnum',\n",
       " 'isalpha',\n",
       " 'isascii',\n",
       " 'isdecimal',\n",
       " 'isdigit',\n",
       " 'isidentifier',\n",
       " 'islower',\n",
       " 'isnumeric',\n",
       " 'isprintable',\n",
       " 'isspace',\n",
       " 'istitle',\n",
       " 'isupper',\n",
       " 'join',\n",
       " 'ljust',\n",
       " 'lower',\n",
       " 'lstrip',\n",
       " 'maketrans',\n",
       " 'partition',\n",
       " 'replace',\n",
       " 'rfind',\n",
       " 'rindex',\n",
       " 'rjust',\n",
       " 'rpartition',\n",
       " 'rsplit',\n",
       " 'rstrip',\n",
       " 'split',\n",
       " 'splitlines',\n",
       " 'startswith',\n",
       " 'strip',\n",
       " 'swapcase',\n",
       " 'title',\n",
       " 'translate',\n",
       " 'upper',\n",
       " 'zfill']"
      ]
     },
     "execution_count": 55,
     "metadata": {},
     "output_type": "execute_result"
    }
   ],
   "source": [
    "dir(str)#It is help function"
   ]
  },
  {
   "cell_type": "code",
   "execution_count": 66,
   "metadata": {},
   "outputs": [],
   "source": [
    "s1 = \"pyhton training\"\n",
    "s1.capitalize()#It will changing the first character to cpital letter\n",
    "s1 = s1.upper()#To Convert the entire string to capital"
   ]
  },
  {
   "cell_type": "code",
   "execution_count": 68,
   "metadata": {},
   "outputs": [
    {
     "data": {
      "text/plain": [
       "True"
      ]
     },
     "execution_count": 68,
     "metadata": {},
     "output_type": "execute_result"
    }
   ],
   "source": [
    "s1.isupper()#To check the given string is consisting the capital letters or not"
   ]
  },
  {
   "cell_type": "code",
   "execution_count": 69,
   "metadata": {},
   "outputs": [
    {
     "data": {
      "text/plain": [
       "False"
      ]
     },
     "execution_count": 69,
     "metadata": {},
     "output_type": "execute_result"
    }
   ],
   "source": [
    "s1.islower()"
   ]
  },
  {
   "cell_type": "code",
   "execution_count": 75,
   "metadata": {},
   "outputs": [
    {
     "data": {
      "text/plain": [
       "2"
      ]
     },
     "execution_count": 75,
     "metadata": {},
     "output_type": "execute_result"
    }
   ],
   "source": [
    "s = 'Python Programming'\n",
    "s.isupper()\n",
    "s.count('m')#It will give number of occurances of character"
   ]
  },
  {
   "cell_type": "code",
   "execution_count": 76,
   "metadata": {},
   "outputs": [],
   "source": [
    "#Tasks\n",
    "#Check the given string(user input) is a palindrome or not\n",
    "        #Ex:malayalam,vmv,mom,\n",
    "    \n",
    "#Check the given number is a prime number or not\n",
    "\n",
    "#print the prime numbers in between given range\n",
    "\n",
    "#print the numbers in between 100,1000 which is divivsible by 6\n",
    "\n",
    "#Find the factors of a given number\n",
    "\n",
    "#print the numbers in between 1,1000 \n",
    "    #which is divisible by 5 and that number not a factor of 100"
   ]
  },
  {
   "cell_type": "code",
   "execution_count": 88,
   "metadata": {},
   "outputs": [
    {
     "name": "stdout",
     "output_type": "stream",
     "text": [
      "Enter string malayalam\n",
      "malayalam  is Plaindrome\n"
     ]
    }
   ],
   "source": [
    "# Check the given string(user input) is a palindrome or not\n",
    "s = input(\"Enter string \")\n",
    "rs = s[::-1]\n",
    "if s == rs:\n",
    "    print(s,\" is Plaindrome\")\n",
    "else:\n",
    "    print(s,\" is not palindrome\")\n",
    "\n"
   ]
  },
  {
   "cell_type": "code",
   "execution_count": 96,
   "metadata": {},
   "outputs": [
    {
     "name": "stdout",
     "output_type": "stream",
     "text": [
      "Enter number 3\n",
      "3  is prime number\n"
     ]
    }
   ],
   "source": [
    "# Check the given number is a prime number or not\n",
    "n = int(input(\"Enter number \"))\n",
    "count = 1\n",
    "for i in range(1,n):\n",
    "    if n%i == 0:\n",
    "        count = count+1\n",
    "if count == 2:\n",
    "    print(n,\" is prime number\")\n",
    "else:\n",
    "    print(n,\" not a prime\")\n",
    "        \n",
    "\n",
    "\n",
    "\n"
   ]
  },
  {
   "cell_type": "code",
   "execution_count": 99,
   "metadata": {},
   "outputs": [
    {
     "name": "stdout",
     "output_type": "stream",
     "text": [
      "Enter lb 1\n",
      "Enter ub 100\n",
      "2 3 5 7 11 13 17 19 23 29 31 37 41 43 47 53 59 61 67 71 73 79 83 89 97 "
     ]
    }
   ],
   "source": [
    "# print the prime numbers in between given range\n",
    "lb = int(input(\"Enter lb \"))\n",
    "ub = int(input(\"Enter ub \"))\n",
    "for i in range(lb,ub):\n",
    "    count = 1\n",
    "    for j in range(1,i):\n",
    "        if i%j == 0:\n",
    "            count = count+1\n",
    "    if count == 2:\n",
    "        print(i,end = \" \")\n",
    "    \n",
    "        "
   ]
  },
  {
   "cell_type": "code",
   "execution_count": 102,
   "metadata": {},
   "outputs": [
    {
     "name": "stdout",
     "output_type": "stream",
     "text": [
      "102 108 114 120 126 132 138 144 150 156 162 168 174 180 186 192 198 204 210 216 222 228 234 240 246 252 258 264 270 276 282 288 294 300 306 312 318 324 330 336 342 348 354 360 366 372 378 384 390 396 402 408 414 420 426 432 438 444 450 456 462 468 474 480 486 492 498 504 510 516 522 528 534 540 546 552 558 564 570 576 582 588 594 600 606 612 618 624 630 636 642 648 654 660 666 672 678 684 690 696 702 708 714 720 726 732 738 744 750 756 762 768 774 780 786 792 798 804 810 816 822 828 834 840 846 852 858 864 870 876 882 888 894 900 906 912 918 924 930 936 942 948 954 960 966 972 978 984 990 996 "
     ]
    }
   ],
   "source": [
    "#print the numbers in between 100,1000 which is divivsible by 6\n",
    "for i in range(100,1000):\n",
    "    if i%6 == 0:\n",
    "        print(i,end = \" \")"
   ]
  },
  {
   "cell_type": "code",
   "execution_count": 104,
   "metadata": {},
   "outputs": [
    {
     "name": "stdout",
     "output_type": "stream",
     "text": [
      "6\n",
      "1 2 3 6 "
     ]
    }
   ],
   "source": [
    "#Find the factors of a given number\n",
    "n = int(input())\n",
    "for i in range(1,n+1):\n",
    "    if n%i == 0:\n",
    "        print(i,end = \" \")"
   ]
  },
  {
   "cell_type": "code",
   "execution_count": 105,
   "metadata": {},
   "outputs": [
    {
     "name": "stdout",
     "output_type": "stream",
     "text": [
      "5 10 15 20 25 30 35 40 45 50 55 60 65 70 75 80 85 90 95 105 110 115 120 125 130 135 140 145 150 155 160 165 170 175 180 185 190 195 205 210 215 220 225 230 235 240 245 250 255 260 265 270 275 280 285 290 295 305 310 315 320 325 330 335 340 345 350 355 360 365 370 375 380 385 390 395 405 410 415 420 425 430 435 440 445 450 455 460 465 470 475 480 485 490 495 505 510 515 520 525 530 535 540 545 550 555 560 565 570 575 580 585 590 595 605 610 615 620 625 630 635 640 645 650 655 660 665 670 675 680 685 690 695 705 710 715 720 725 730 735 740 745 750 755 760 765 770 775 780 785 790 795 805 810 815 820 825 830 835 840 845 850 855 860 865 870 875 880 885 890 895 905 910 915 920 925 930 935 940 945 950 955 960 965 970 975 980 985 990 995 "
     ]
    }
   ],
   "source": [
    "#print the numbers in between 1,1000 \n",
    "    #which is divisible by 5 and that number not a factor of 100\n",
    "for i in range(1,1000):\n",
    "    if i%5 == 0 and i%100!=0:\n",
    "        print(i,end = \" \")"
   ]
  },
  {
   "cell_type": "markdown",
   "metadata": {},
   "source": [
    "### Function in Python"
   ]
  },
  {
   "cell_type": "code",
   "execution_count": 106,
   "metadata": {},
   "outputs": [],
   "source": [
    "#Function is nothing but block of code\n",
    "#Any programming language there are two types of functions\n",
    "#i.e 1.Predefined function\n",
    "#    2.User Defined function\n",
    "#2.User Defined function\n",
    "# ========================\n",
    "# Sytanx:\n",
    "# def functionname():\n",
    "#     statements.....\n",
    "# Python userdefined Functions\n",
    "#      - Without arguments & without return values\n",
    "#      - Without arguments & with return Value\n",
    "#      - With arguments & without return values\n",
    "#      - With arguments & return values\n",
    "#      - Recursive Functions\n"
   ]
  },
  {
   "cell_type": "code",
   "execution_count": 110,
   "metadata": {},
   "outputs": [
    {
     "name": "stdout",
     "output_type": "stream",
     "text": [
      "30\n"
     ]
    }
   ],
   "source": [
    "#without arguments and without return value\n",
    "def add():\n",
    "    a = 10\n",
    "    b = 20\n",
    "    c = a+b\n",
    "    print(c)\n",
    "add()\n",
    "\n"
   ]
  },
  {
   "cell_type": "code",
   "execution_count": 112,
   "metadata": {},
   "outputs": [
    {
     "data": {
      "text/plain": [
       "30"
      ]
     },
     "execution_count": 112,
     "metadata": {},
     "output_type": "execute_result"
    }
   ],
   "source": [
    "#with out arguments and with return value\n",
    "def add():\n",
    "    a = 10\n",
    "    b = 20\n",
    "    return a+b\n",
    "add()"
   ]
  },
  {
   "cell_type": "code",
   "execution_count": 113,
   "metadata": {},
   "outputs": [
    {
     "name": "stdout",
     "output_type": "stream",
     "text": [
      "30\n"
     ]
    }
   ],
   "source": [
    "#With Arguments and Without return value\n",
    "def add(a,b):\n",
    "    c = a+b\n",
    "    print(c)\n",
    "d = 10\n",
    "f = 20\n",
    "add(d,f)"
   ]
  },
  {
   "cell_type": "code",
   "execution_count": 114,
   "metadata": {},
   "outputs": [
    {
     "data": {
      "text/plain": [
       "30"
      ]
     },
     "execution_count": 114,
     "metadata": {},
     "output_type": "execute_result"
    }
   ],
   "source": [
    "def add(a,b):\n",
    "    return a+b\n",
    "d = 10\n",
    "f = 20\n",
    "add(d,f)"
   ]
  },
  {
   "cell_type": "code",
   "execution_count": 115,
   "metadata": {},
   "outputs": [],
   "source": [
    "#With arguments and with return\n",
    "# =================================\n",
    "#create a function to add two numbers \n",
    "    #take the input from the user\n",
    "    \n",
    "#create a function to find the power of 2 for a \n",
    "    #given number(input from user)\n",
    "    \n",
    "#create a function to check the given number is prime \n",
    "    # or not\n"
   ]
  },
  {
   "cell_type": "code",
   "execution_count": 116,
   "metadata": {},
   "outputs": [
    {
     "name": "stdout",
     "output_type": "stream",
     "text": [
      "10\n",
      "50\n"
     ]
    },
    {
     "data": {
      "text/plain": [
       "60"
      ]
     },
     "execution_count": 116,
     "metadata": {},
     "output_type": "execute_result"
    }
   ],
   "source": [
    "#create a function to add two numbers \n",
    "    #take the input from the user\n",
    "def addition(a,b):\n",
    "    return a+b\n",
    "d = int(input())\n",
    "f = int(input())\n",
    "addition(d,f)"
   ]
  },
  {
   "cell_type": "code",
   "execution_count": 117,
   "metadata": {},
   "outputs": [
    {
     "name": "stdout",
     "output_type": "stream",
     "text": [
      "Enter n value 2\n"
     ]
    },
    {
     "data": {
      "text/plain": [
       "4"
      ]
     },
     "execution_count": 117,
     "metadata": {},
     "output_type": "execute_result"
    }
   ],
   "source": [
    "#create a function to find the power 2 for given number\n",
    "def findingSqure(n):\n",
    "    return n**2\n",
    "n = int(input(\"Enter n value \"))\n",
    "findingSqure(n)"
   ]
  },
  {
   "cell_type": "code",
   "execution_count": 3,
   "metadata": {},
   "outputs": [
    {
     "name": "stdout",
     "output_type": "stream",
     "text": [
      "5\n"
     ]
    },
    {
     "data": {
      "text/plain": [
       "True"
      ]
     },
     "execution_count": 3,
     "metadata": {},
     "output_type": "execute_result"
    }
   ],
   "source": [
    "#Create a function to check prime or not\n",
    "def isPrime(n):\n",
    "    count = 1\n",
    "    for i in range(1,n):\n",
    "        if n%i == 0:\n",
    "            count = count+1\n",
    "    if count == 2:\n",
    "        return True\n",
    "    else:\n",
    "        return False\n",
    "a = int(input())\n",
    "isPrime(a)            "
   ]
  },
  {
   "cell_type": "code",
   "execution_count": 124,
   "metadata": {},
   "outputs": [
    {
     "name": "stdout",
     "output_type": "stream",
     "text": [
      "2 3 5 7 11 13 17 19 23 29 31 37 41 43 47 53 59 61 67 71 73 79 83 89 97 "
     ]
    }
   ],
   "source": [
    "#create a function to print prime  numbers inbetween 1,100\n",
    "def generatePrime(lb,ub):\n",
    "    for i in range(lb,ub):\n",
    "        if isPrime(i):\n",
    "            print(i,end = \" \")\n",
    "lb = 1\n",
    "ub = 100\n",
    "generatePrime(lb,ub)\n"
   ]
  },
  {
   "cell_type": "code",
   "execution_count": 1,
   "metadata": {},
   "outputs": [],
   "source": [
    "#create a function to check given string is palindrome or not\n",
    "\n",
    "#create a function to find the average of prime numbers inbetween 1,1000\n",
    "\n",
    "#create a function to find the factorial of given number\n",
    "\n",
    "#create a function to print the facbonacci seies \n",
    "\n",
    "#create a function to check given number is perfectnumber of not\n",
    "    # Ex:6 == > factors of 6 ==>1,2,3=1+2+3=6\n",
    "    \n",
    "#create a function to print all the perfectnumbers in between 1,100\n",
    "\n",
    "#create a function to find the average of given number factors\n",
    "\n",
    "#create a function to find the intrest of given amount and time\n",
    "    #(here intrest is 2rs)\n",
    "    \n",
    "#create a function to generate all the leap years in between 2024 to 2090"
   ]
  },
  {
   "cell_type": "code",
   "execution_count": 6,
   "metadata": {},
   "outputs": [
    {
     "name": "stdout",
     "output_type": "stream",
     "text": [
      "Sum Of all Primes: 76127\n",
      "Average Of All primes: 450\n"
     ]
    }
   ],
   "source": [
    "#create a function to find the average of prime numbers inbetween 1,1000\n",
    "def generatePrimerange(lb,ub):\n",
    "    count = 1\n",
    "    tot = 0\n",
    "    for i in range(lb,ub):\n",
    "        if isPrime(i):\n",
    "            count+=1\n",
    "            tot+=i\n",
    "    print(\"Sum Of all Primes:\",tot)\n",
    "    print(\"Average Of All primes:\",tot//count)\n",
    "           #print(i,end = \" \")\n",
    "lb = 1\n",
    "ub = 1000\n",
    "generatePrimerange(lb,ub)"
   ]
  },
  {
   "cell_type": "code",
   "execution_count": 8,
   "metadata": {},
   "outputs": [
    {
     "name": "stdout",
     "output_type": "stream",
     "text": [
      "sas\n",
      "Palindrome\n"
     ]
    }
   ],
   "source": [
    "#create a function to check given string is palindrome or not\n",
    "\n",
    "def palindrome():\n",
    "    s=a[::-1]\n",
    "    if a==s:\n",
    "        print(\"Palindrome\")\n",
    "    else:\n",
    "        print(\"NOt Pal\")\n",
    "a=input()\n",
    "palindrome()"
   ]
  },
  {
   "cell_type": "code",
   "execution_count": 26,
   "metadata": {},
   "outputs": [
    {
     "name": "stdout",
     "output_type": "stream",
     "text": [
      "10\n",
      "0\n",
      "1\n",
      "1 2 3 5 8 13 21 34 55 89 "
     ]
    }
   ],
   "source": [
    "#create a function to print the facbonacci seies \n",
    "\n",
    "a = int(input())\n",
    "def fib():\n",
    "    f1=0\n",
    "    f2=1\n",
    "    i = 0\n",
    "    print(f1)\n",
    "    print(f2)\n",
    "    while i < a:\n",
    "        f3=f1+f2\n",
    "        f1=f2\n",
    "        f2=f3\n",
    "        print(f3,end = \" \")\n",
    "        i=i+1\n",
    "fib()"
   ]
  },
  {
   "cell_type": "code",
   "execution_count": null,
   "metadata": {},
   "outputs": [],
   "source": []
  }
 ],
 "metadata": {
  "kernelspec": {
   "display_name": "Python 3",
   "language": "python",
   "name": "python3"
  },
  "language_info": {
   "codemirror_mode": {
    "name": "ipython",
    "version": 3
   },
   "file_extension": ".py",
   "mimetype": "text/x-python",
   "name": "python",
   "nbconvert_exporter": "python",
   "pygments_lexer": "ipython3",
   "version": "3.7.3"
  }
 },
 "nbformat": 4,
 "nbformat_minor": 2
}
